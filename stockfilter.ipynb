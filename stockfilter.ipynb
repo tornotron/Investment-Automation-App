{
 "cells": [
  {
   "cell_type": "code",
   "execution_count": 115,
   "metadata": {},
   "outputs": [],
   "source": [
    "import yfinance as yf\n",
    "import alpha_vantage as av\n",
    "import pandas as pd\n",
    "import numpy as np\n",
    "import regex as re\n",
    "pd.set_option('display.max_rows', None)"
   ]
  },
  {
   "cell_type": "code",
   "execution_count": 116,
   "metadata": {},
   "outputs": [],
   "source": [
    "PREV_YEARS_TO_CONSIDER_FCF = [0]    # put atleast [0] or maximum [0,-1,-2] years\n",
    "PREV_YEARS_TO_CONSIDER_OCF = [0]    # put atleast [0] or maximum [0,-1,-2] years\n",
    "PREV_YEARS_TO_CONSIDER_ROCE = [0]   # put atleast [0] or maximum [0,-1,-2] years\n",
    "PREV_YEARS_TO_CONSIDER_ROE = [0]    # put atleast [0] or maximum [0,-1,-2] years\n",
    "PREV_YEARS_TO_CONSIDER_D2E = [0]    # put atleast [0] or maximum [0,-1,-2] years\n",
    "PREV_YEARS_TO_CONSIDER_CR = [0] # put atleast [0] or maximum [0,-1,-2] years\n",
    "PREV_YEARS_TO_CONSIDER_PS = [0] # put atleast [0] or maximum [0,-1,-2] years\n",
    "PREV_YEARS_TO_CONSIDER_SG_1YR = [0] # put atleast [0] or maximum [0,-1,-2] years\n",
    "PREV_YEARS_TO_CONSIDER_SG_3YR = [0] # put atleast [0] or maximum [0,-1,-2] years\n",
    "PREV_YEARS_TO_CONSIDER_PG_1YR = [0] # put atleast [0] or maximum [0,-1,-2] years\n",
    "PREV_YEARS_TO_CONSIDER_PG_3YR = [0] # put atleast [0] or maximum [0,-1,-2] years\n",
    "INDUSTRY_PE = 20\n",
    "INDEX_PE = 20\n",
    "USE_INDEX_PE = False\n",
    "PREV_QUARTERS_TO_CONSIDER_FOR_POSITIVE_SG = [0] # put atleast [0] or maximum [0,-1,-2] quarters\n",
    "PREV_QUARTERS_TO_CONSIDER_FOR_POSITIVE_PG = [0] # put atleast [0] or maximum [0,-1,-2] quarters\n",
    "PREV_QUARTERS_TO_CONSIDER_FOR_POSITIVE_OP_PG = [0] # put atleast [0] or maximum [0,-1,-2] quarters "
   ]
  },
  {
   "cell_type": "code",
   "execution_count": 167,
   "metadata": {},
   "outputs": [],
   "source": [
    "tickers=[\"HAL\"]\n",
    "\n",
    "for ticker in tickers:\n",
    "    company = yf.Ticker(ticker)"
   ]
  },
  {
   "cell_type": "code",
   "execution_count": 118,
   "metadata": {},
   "outputs": [
    {
     "name": "stderr",
     "output_type": "stream",
     "text": [
      "APPL: Period '1wk' is invalid, must be one of ['1mo', '3mo', '6mo', 'ytd', '1y', '2y', '5y', '10y', 'max']\n"
     ]
    }
   ],
   "source": [
    "list_of_info_keys = company.info.keys()\n",
    "list_of_balance_sheet_keys = company.balance_sheet.index.tolist()\n",
    "list_of_cashflow_keys = company.cashflow.index.tolist()\n",
    "list_of_income_stmt_keys = company.income_stmt.index.tolist()\n",
    "list_of_history_metadata_keys = company.history_metadata.keys()\n",
    "list_of_financials = company.financials.T.keys()\n",
    "\n",
    "\n",
    "def print_refined_list_of_keys(list_of_keys, expression):\n",
    "    refind_list_of_keys = [x for x in list_of_keys if re.search(expression, x, re.IGNORECASE)]\n",
    "    for key in refind_list_of_keys:\n",
    "        print(\"-\" , key)\n",
    "\n",
    "\n",
    "def get_list_of_available_keys(expression):\n",
    "    print(\"\\nInfo Keys:\\n\")\n",
    "    print_refined_list_of_keys(list_of_info_keys, expression)\n",
    "    print(\"\\nBalance Sheet Keys:\\n\")\n",
    "    print_refined_list_of_keys(list_of_balance_sheet_keys, expression)\n",
    "    print(\"\\nCashflow Keys:\\n\")\n",
    "    print_refined_list_of_keys(list_of_cashflow_keys, expression)\n",
    "    print(\"\\nIncome Statement Keys:\\n\")\n",
    "    print_refined_list_of_keys(list_of_income_stmt_keys, expression)\n",
    "    print(\"\\nHistory Metadata Keys:\\n\")\n",
    "    print_refined_list_of_keys(list_of_history_metadata_keys, expression)\n",
    "    print(\"\\nFinancials Keys:\\n\")\n",
    "    print_refined_list_of_keys(list_of_financials, expression)"
   ]
  },
  {
   "cell_type": "code",
   "execution_count": 119,
   "metadata": {},
   "outputs": [],
   "source": [
    "def calculate_free_cash_flow(company, year):\n",
    "    free_cash_flow =company.cashflow.loc['Free Cash Flow']\n",
    "    return free_cash_flow.iloc[0-year]"
   ]
  },
  {
   "cell_type": "code",
   "execution_count": 120,
   "metadata": {},
   "outputs": [],
   "source": [
    "def is_free_cash_flow_positive(company):\n",
    "    for year in PREV_YEARS_TO_CONSIDER_FCF:\n",
    "        if calculate_free_cash_flow(company, year) < 0:\n",
    "            return False\n",
    "    return True"
   ]
  },
  {
   "cell_type": "code",
   "execution_count": 121,
   "metadata": {},
   "outputs": [],
   "source": [
    "def calculate_operating_cash_flow(company, year):\n",
    "    operating_cash_flow =company.cashflow.loc['Operating Cash Flow']\n",
    "    return operating_cash_flow.iloc[0-year]"
   ]
  },
  {
   "cell_type": "code",
   "execution_count": 122,
   "metadata": {},
   "outputs": [],
   "source": [
    "def is_operating_cash_flow_positive(company):\n",
    "    for year in PREV_YEARS_TO_CONSIDER_OCF:\n",
    "        if calculate_operating_cash_flow(company, year) < 0:\n",
    "            return False\n",
    "    return True"
   ]
  },
  {
   "cell_type": "code",
   "execution_count": 123,
   "metadata": {},
   "outputs": [],
   "source": [
    "def calculate_roce(company, year):\n",
    "    financials = company.financials\n",
    "    balance_sheet = company.balance_sheet\n",
    "\n",
    "    # Calculate EBIT (Earnings Before Interest and Taxes)\n",
    "    ebit = financials.loc['EBIT']\n",
    "\n",
    "    # Calculate Capital Employed (Total Assets - Current Liabilities)\n",
    "    total_assets = balance_sheet.loc['Total Assets']\n",
    "    current_liabilities = balance_sheet.loc['Current Liabilities']  # Using instead of Total Current Liabilities\n",
    "    capital_employed = total_assets - current_liabilities\n",
    "\n",
    "    # Calculate ROCE\n",
    "    roce = ebit / capital_employed\n",
    "    return roce.iloc[0-year]"
   ]
  },
  {
   "cell_type": "code",
   "execution_count": 124,
   "metadata": {},
   "outputs": [],
   "source": [
    "# Check if ROCE is greater than or equal to 15%\n",
    "\n",
    "def is_roce_greater_than_or_equal_to_15(company):\n",
    "    for year in PREV_YEARS_TO_CONSIDER_ROCE:\n",
    "        if calculate_roce(company, year) < 0.15:\n",
    "            return False\n",
    "    return True"
   ]
  },
  {
   "cell_type": "code",
   "execution_count": 125,
   "metadata": {},
   "outputs": [],
   "source": [
    "def calculate_roe(company, year):\n",
    "    net_income = company.income_stmt.loc['Net Income']\n",
    "    shareholders_equity = company.balance_sheet.loc['Stockholders Equity'] # Using instead of Total Stockholders Equity\n",
    "    roe = net_income / shareholders_equity\n",
    "    return roe.iloc[0-year]"
   ]
  },
  {
   "cell_type": "code",
   "execution_count": 126,
   "metadata": {},
   "outputs": [],
   "source": [
    "# Check if ROE is greater than or equal to 15%\n",
    "\n",
    "def is_roe_greater_than_or_equal_to_15(company):\n",
    "    for year in PREV_YEARS_TO_CONSIDER_ROE:\n",
    "        if calculate_roe(company, year) < 0.15:\n",
    "            return False\n",
    "    return True"
   ]
  },
  {
   "cell_type": "code",
   "execution_count": 127,
   "metadata": {},
   "outputs": [],
   "source": [
    "# Check if ROE is greater than or equal to 20%\n",
    "\n",
    "def is_roe_greater_than_or_equal_to_20(company):\n",
    "    for year in PREV_YEARS_TO_CONSIDER_ROE:\n",
    "        if calculate_roe(company, year) < 0.2:\n",
    "            return False\n",
    "    return True"
   ]
  },
  {
   "cell_type": "code",
   "execution_count": 128,
   "metadata": {},
   "outputs": [],
   "source": [
    "# Check if PE is less than industry PE\n",
    "\n",
    "def calculate_trailing_pe(company):\n",
    "    # Fetch the company's data\n",
    "    info = company.info\n",
    "    \n",
    "    # Get the current market price\n",
    "    current_price = info.get('currentPrice')\n",
    "    \n",
    "    # Get the trailing twelve months earnings per share\n",
    "    eps_ttm = info.get('trailingEps')\n",
    "    \n",
    "    # Check if the necessary information is available\n",
    "    if current_price is not None and eps_ttm is not None and eps_ttm != 0:\n",
    "        # Calculate the trailing P/E ratio\n",
    "        trailing_pe = current_price / eps_ttm\n",
    "        return trailing_pe\n",
    "    else:\n",
    "        return \"Required data to calculate trailing P/E is not available.\"\n",
    " "
   ]
  },
  {
   "cell_type": "code",
   "execution_count": 129,
   "metadata": {},
   "outputs": [],
   "source": [
    "   \n",
    "def is_pe_less_than_benchmark_pe(company, useindex = USE_INDEX_PE):\n",
    "    # Calculate the trailing P/E ratio\n",
    "    trailing_pe = calculate_trailing_pe(company)\n",
    "        \n",
    "    if useindex:\n",
    "        industry_pe = INDEX_PE\n",
    "    else:\n",
    "        industry_pe = INDUSTRY_PE\n",
    "\n",
    "    if trailing_pe < industry_pe:\n",
    "        return True\n",
    "    else:\n",
    "        return False"
   ]
  },
  {
   "cell_type": "code",
   "execution_count": 130,
   "metadata": {},
   "outputs": [],
   "source": [
    "def calculate_debt_to_equity_ratio(company, year):\n",
    "    balance_sheet = company.balance_sheet\n",
    "    total_liabilities = balance_sheet.loc['Current Liabilities'] # Using instead of Total Current Liabilities\n",
    "    total_equity = balance_sheet.loc['Stockholders Equity'] # Using instead of Total Stockholders Equity\n",
    "    debt_to_equity_ratio = total_liabilities / total_equity\n",
    "    return debt_to_equity_ratio.iloc[0-year]\n"
   ]
  },
  {
   "cell_type": "code",
   "execution_count": 131,
   "metadata": {},
   "outputs": [],
   "source": [
    "# Check if the company has a debt to equity ratio of less than 2\n",
    "\n",
    "def is_debt_to_equity_ratio_less_than_2(company):\n",
    "    for year in PREV_YEARS_TO_CONSIDER_D2E:\n",
    "        if calculate_debt_to_equity_ratio(company, year) >= 2:\n",
    "            return False\n",
    "    return True "
   ]
  },
  {
   "cell_type": "code",
   "execution_count": 132,
   "metadata": {},
   "outputs": [],
   "source": [
    "\n",
    "# Check if the company has a debt to equity ratio of less than 0.3\n",
    "\n",
    "def is_debt_to_equity_ratio_less_than_0_dot_3(company):\n",
    "    for year in PREV_YEARS_TO_CONSIDER_D2E:\n",
    "        if calculate_debt_to_equity_ratio(company, year) >= 0.3:\n",
    "            return False\n",
    "    return True "
   ]
  },
  {
   "cell_type": "code",
   "execution_count": 133,
   "metadata": {},
   "outputs": [],
   "source": [
    "\n",
    "# Check if the company has a debt to equity ratio of less than or equal to 0.2\n",
    "def is_debt_to_equity_ratio_less_than_or_equal_to_0_dot_2(company):\n",
    "    for year in PREV_YEARS_TO_CONSIDER_D2E:\n",
    "        if calculate_debt_to_equity_ratio(company, year) > 0.2:\n",
    "            return False\n",
    "    return True "
   ]
  },
  {
   "cell_type": "code",
   "execution_count": 134,
   "metadata": {},
   "outputs": [],
   "source": [
    "def calculate_current_ratio(company, year):\n",
    "    balance_sheet = company.balance_sheet\n",
    "    total_current_assets = balance_sheet.loc['Current Assets'] # Using instead of Total Current Assets\n",
    "    total_current_liabilities = balance_sheet.loc['Current Liabilities'] # Using instead of Total Current Liabilities\n",
    "    current_ratio = total_current_assets / total_current_liabilities\n",
    "    return current_ratio.iloc[0-year]\n"
   ]
  },
  {
   "cell_type": "code",
   "execution_count": 135,
   "metadata": {},
   "outputs": [],
   "source": [
    "# Check if the company has a current ratio of greater than 2\n",
    "\n",
    "def is_current_ratio_greater_than_2(company):\n",
    "    for year in PREV_YEARS_TO_CONSIDER_CR:\n",
    "        if calculate_current_ratio(company, year) <= 2:\n",
    "            return False \n",
    "    return True "
   ]
  },
  {
   "cell_type": "code",
   "execution_count": 136,
   "metadata": {},
   "outputs": [],
   "source": [
    "def calculate_piotroski_f_score(company, year):\n",
    "    financials = company.financials.T  # Transpose for easier row access\n",
    "    balance_sheet = company.balance_sheet.T  # Transpose\n",
    "    cash_flow = company.cash_flow.T  # Transpose\n",
    "\n",
    "    n = 0-year\n",
    "\n",
    "    # Initialize Piotroski score\n",
    "    f_score = 0\n",
    "\n",
    "    # Criteria 1: Positive net income\n",
    "    f_score += 1 if financials['Net Income'].iloc[n] > 0 else 0\n",
    "\n",
    "    # Criteria 2: Positive return on assets\n",
    "    f_score += 1 if financials['Net Income'].iloc[n] / balance_sheet['Total Assets'].iloc[n] > 0 else 0\n",
    "\n",
    "    # Criteria 3: Positive operating cash flow\n",
    "    f_score += 1 if cash_flow['Operating Cash Flow'].iloc[n] > 0 else 0 # Using instead of Total Cash From Operating Activities\n",
    "\n",
    "    # Criteria 4: Cash flow from operations greater than net income\n",
    "    f_score += 1 if cash_flow['Operating Cash Flow'].iloc[n] > financials['Net Income'].iloc[n] else 0\n",
    "\n",
    "    # Criteria 5: Lower ratio of long term debt in the current period compared to the previous one\n",
    "    lt_debt_current = balance_sheet['Long Term Debt'].iloc[n]\n",
    "    lt_debt_previous = balance_sheet['Long Term Debt'].iloc[n+1]\n",
    "    f_score += 1 if lt_debt_current < lt_debt_previous else 0\n",
    "\n",
    "    # Criteria 6: Higher current ratio this year compared to the previous year\n",
    "    current_ratio_current = balance_sheet['Current Assets'].iloc[n] / balance_sheet['Current Liabilities'].iloc[n] # Using instead of Total Current Assets and Total Current Liabilities\n",
    "    current_ratio_previous = balance_sheet['Current Assets'].iloc[n+1] / balance_sheet['Current Liabilities'].iloc[n+1] # Using instead of Total Current Assets and Total Current Liabilities\n",
    "    f_score += 1 if current_ratio_current > current_ratio_previous else 0\n",
    "\n",
    "    # Criteria 7: No new shares issued (compare the number of shares outstanding)\n",
    "    # This criterion may require data not available in standard financial statements\n",
    "\n",
    "    # Criteria 8: Higher gross margin compared to the previous year\n",
    "    gross_margin_current = (financials['Total Revenue'].iloc[n] - financials['Cost Of Revenue'].iloc[n]) / financials['Total Revenue'].iloc[n]\n",
    "    gross_margin_previous = (financials['Total Revenue'].iloc[n+1] - financials['Cost Of Revenue'].iloc[n+1]) / financials['Total Revenue'].iloc[n+1]\n",
    "    f_score += 1 if gross_margin_current > gross_margin_previous else 0\n",
    "\n",
    "    # Criteria 9: Higher asset turnover ratio compared to the previous year\n",
    "    asset_turnover_current = financials['Total Revenue'].iloc[n] / balance_sheet['Total Assets'].iloc[n]\n",
    "    asset_turnover_previous = financials['Total Revenue'].iloc[n+1] / balance_sheet['Total Assets'].iloc[n+1]\n",
    "    f_score += 1 if asset_turnover_current > asset_turnover_previous else 0\n",
    "\n",
    "    return f_score"
   ]
  },
  {
   "cell_type": "code",
   "execution_count": 137,
   "metadata": {},
   "outputs": [],
   "source": [
    "# Check if piotroski f score is greater than 7\n",
    "\n",
    "def is_piotroski_f_score_greater_than_7(company):\n",
    "    for year in PREV_YEARS_TO_CONSIDER_PS:\n",
    "        if calculate_piotroski_f_score(company, year) <= 7:\n",
    "            return False\n",
    "    return True"
   ]
  },
  {
   "cell_type": "code",
   "execution_count": 138,
   "metadata": {},
   "outputs": [],
   "source": [
    "def calculate_sales_growth_for_1_yr(company, year):\n",
    "    financials = company.financials.T  # Transpose for easier row access\n",
    "\n",
    "    n = 0-year\n",
    "    # Calculate one year sales growth\n",
    "    try:\n",
    "        current_year_sales = financials['Total Revenue'].iloc[n]\n",
    "        previous_year_sales = financials['Total Revenue'].iloc[n+1]\n",
    "\n",
    "        # Calculate sales growth in percentage\n",
    "        sales_growth = ((current_year_sales - previous_year_sales) / previous_year_sales)\n",
    "        return sales_growth\n",
    "    except Exception as e:\n",
    "        return f\"Error calculating sales growth: {str(e)}\""
   ]
  },
  {
   "cell_type": "code",
   "execution_count": 139,
   "metadata": {},
   "outputs": [],
   "source": [
    "# Check if slaes growth for 1 year is greater than or equal to 10%\n",
    "\n",
    "def is_1yr_sales_growth_greater_than_or_equal_to_10(company):\n",
    "    for year in PREV_YEARS_TO_CONSIDER_SG_1YR:\n",
    "        if calculate_sales_growth_for_1_yr(company, year) < 0.1:\n",
    "            return False\n",
    "    return True"
   ]
  },
  {
   "cell_type": "code",
   "execution_count": 140,
   "metadata": {},
   "outputs": [],
   "source": [
    "def calculate_sales_growth_for_3_yr(company, year):\n",
    "    financials = company.financials.T  # Transpose for easier row access\n",
    "\n",
    "    n = 0-year\n",
    "    # Calculate one year sales growth\n",
    "    try:\n",
    "        current_year_sales = financials['Total Revenue'].iloc[n]\n",
    "        third_preious_year_sales = financials['Total Revenue'].iloc[n+2]\n",
    "\n",
    "        # Calculate sales growth in percentage\n",
    "        sales_growth = ((current_year_sales - third_preious_year_sales) / third_preious_year_sales)\n",
    "        return sales_growth\n",
    "    except Exception as e:\n",
    "        return f\"Error calculating sales growth: {str(e)}\""
   ]
  },
  {
   "cell_type": "code",
   "execution_count": 141,
   "metadata": {},
   "outputs": [],
   "source": [
    "# Check if slaes growth for 3 year is greater than or equal to 10%\n",
    "    \n",
    "def is_3yr_sales_growth_greater_than_or_equal_to_10(company):\n",
    "    for year in PREV_YEARS_TO_CONSIDER_SG_3YR:\n",
    "        if calculate_sales_growth_for_3_yr(company, year) < 0.1:\n",
    "            return False\n",
    "    return True"
   ]
  },
  {
   "cell_type": "code",
   "execution_count": 142,
   "metadata": {},
   "outputs": [],
   "source": [
    "def calculate_profit_growth_for_1_yr(company, year):\n",
    "    financials = company.financials.T  # Transpose for easier row access\n",
    "\n",
    "    n = 0-year\n",
    "    # Calculate one year profit growth\n",
    "    try:\n",
    "        current_year_profit = financials['Gross Profit'].iloc[n]\n",
    "        previous_year_profit = financials['Gross Profit'].iloc[n+1]\n",
    "\n",
    "        # Calculate profit growth in percentage\n",
    "        profit_growth = ((current_year_profit - previous_year_profit) / previous_year_profit)\n",
    "        return profit_growth\n",
    "    except Exception as e:\n",
    "        return f\"Error calculating profit growth: {str(e)}\""
   ]
  },
  {
   "cell_type": "code",
   "execution_count": 143,
   "metadata": {},
   "outputs": [],
   "source": [
    "# Check if profit growth for 1 year is greater than or equal to 10%\n",
    "    \n",
    "def is_1yr_profit_growth_greater_than_or_equal_to_10(company):\n",
    "    for year in PREV_YEARS_TO_CONSIDER_PG_1YR:\n",
    "        if calculate_profit_growth_for_1_yr(company, year) < 0.1:\n",
    "            return False\n",
    "    return True"
   ]
  },
  {
   "cell_type": "code",
   "execution_count": 144,
   "metadata": {},
   "outputs": [],
   "source": [
    "def calculate_profit_growth_for_3_yr(company, year):\n",
    "    financials = company.financials.T  # Transpose for easier row access\n",
    "\n",
    "    n = 0-year\n",
    "    # Calculate one year profit growth\n",
    "    try:\n",
    "        current_year_profit = financials['Gross Profit'].iloc[n]\n",
    "        third_preious_year_profit = financials['Gross Profit'].iloc[n+2]\n",
    "\n",
    "        # Calculate profit growth in percentage\n",
    "        profit_growth = ((current_year_profit - third_preious_year_profit) / third_preious_year_profit)\n",
    "        return profit_growth\n",
    "    except Exception as e:\n",
    "        return f\"Error calculating profit growth: {str(e)}\""
   ]
  },
  {
   "cell_type": "code",
   "execution_count": 145,
   "metadata": {},
   "outputs": [],
   "source": [
    "# Check if slaes growth for 3 year is greater than or equal to 10%\n",
    "    \n",
    "def is_3yr_profit_growth_greater_than_or_equal_to_10(company):\n",
    "    for year in PREV_YEARS_TO_CONSIDER_PG_3YR:\n",
    "        if calculate_profit_growth_for_3_yr(company, year) < 0.1:\n",
    "            return False\n",
    "    return True"
   ]
  },
  {
   "cell_type": "code",
   "execution_count": 146,
   "metadata": {},
   "outputs": [],
   "source": [
    "def calculate_sales_growth_for_1_quarter(company, quarter):\n",
    "    financials = company.quarterly_financials.T  # Transpose for easier row access\n",
    "\n",
    "    n = 0-quarter\n",
    "    # Calculate one quarter sales growth\n",
    "    try:\n",
    "        current_quarter_sales = financials['Total Revenue'].iloc[n]\n",
    "        previous_quarter_sales = financials['Total Revenue'].iloc[n+1]\n",
    "\n",
    "        # Calculate sales growth in percentage\n",
    "        sales_growth = current_quarter_sales - previous_quarter_sales\n",
    "        return sales_growth\n",
    "    except Exception as e:\n",
    "        return f\"Error calculating sales growth: {str(e)}\""
   ]
  },
  {
   "cell_type": "code",
   "execution_count": 147,
   "metadata": {},
   "outputs": [],
   "source": [
    "# Check if sales growth for previous quarters is positive \n",
    "    \n",
    "def is_QOQ_sales_growth_positive(company):\n",
    "    for quarter in PREV_QUARTERS_TO_CONSIDER_FOR_POSITIVE_SG:\n",
    "        if calculate_sales_growth_for_1_quarter(company, quarter) < 0:\n",
    "            return False\n",
    "    return True"
   ]
  },
  {
   "cell_type": "code",
   "execution_count": 148,
   "metadata": {},
   "outputs": [],
   "source": [
    "def calculate_profit_growth_for_1_quarter(company, year):\n",
    "    financials = company.quarterly_financials.T  # Transpose for easier row access\n",
    "\n",
    "    n = 0-year\n",
    "    # Calculate one quarter profit growth\n",
    "    try:\n",
    "        current_quarter_profit = financials['Gross Profit'].iloc[n]\n",
    "        previous_quarter_profit = financials['Gross Profit'].iloc[n+1]\n",
    "\n",
    "        # Calculate profit growth in percentage\n",
    "        profit_growth = current_quarter_profit - previous_quarter_profit\n",
    "        return profit_growth\n",
    "    except Exception as e:\n",
    "        return f\"Error calculating profit growth: {str(e)}\""
   ]
  },
  {
   "cell_type": "code",
   "execution_count": 149,
   "metadata": {},
   "outputs": [],
   "source": [
    "# Check if profit growth for previous quarters is positive \n",
    "    \n",
    "def is_QOQ_profit_growth_positive(company):\n",
    "    for quarter in PREV_QUARTERS_TO_CONSIDER_FOR_POSITIVE_PG:\n",
    "        if calculate_profit_growth_for_1_quarter(company, quarter) < 0:\n",
    "            return False\n",
    "    return True"
   ]
  },
  {
   "cell_type": "code",
   "execution_count": 150,
   "metadata": {},
   "outputs": [],
   "source": [
    "def calculate_EBITDA_growth_for_1_quarter(company, year):\n",
    "    financials = company.quarterly_financials.T  # Transpose for easier row access\n",
    "\n",
    "    n = 0-year\n",
    "    # Calculate one quarter EBITDA growth\n",
    "    try:\n",
    "        current_quarter_EBITDA = financials['EBITDA'].iloc[n]\n",
    "        previous_quarter_EBITDA = financials['EBITDA'].iloc[n+1]\n",
    "\n",
    "        # Calculate EBITDA growth in percentage\n",
    "        EBITDA_growth = current_quarter_EBITDA - previous_quarter_EBITDA\n",
    "        return EBITDA_growth\n",
    "    except Exception as e:\n",
    "        return f\"Error calculating EBITDA growth: {str(e)}\""
   ]
  },
  {
   "cell_type": "code",
   "execution_count": 151,
   "metadata": {},
   "outputs": [],
   "source": [
    "# Check if operating profit growth for previous quarters is positive \n",
    "    \n",
    "def is_QOQ_operating_profit_growth_positive(company):\n",
    "    for quarter in PREV_QUARTERS_TO_CONSIDER_FOR_POSITIVE_PG:\n",
    "        if calculate_EBITDA_growth_for_1_quarter(company, quarter) < 0:\n",
    "            return False\n",
    "    return True"
   ]
  },
  {
   "cell_type": "code",
   "execution_count": 152,
   "metadata": {},
   "outputs": [],
   "source": [
    "def do_prelimenary_checks_and_get_points(company):\n",
    "    points = 0\n",
    "    if is_roe_greater_than_or_equal_to_15(company):\n",
    "        points += 1\n",
    "    if is_roce_greater_than_or_equal_to_15(company):\n",
    "        points += 1\n",
    "    if is_debt_to_equity_ratio_less_than_or_equal_to_0_dot_2(company):\n",
    "        points += 1\n",
    "    if is_1yr_sales_growth_greater_than_or_equal_to_10(company):\n",
    "        points += 1\n",
    "    if is_3yr_sales_growth_greater_than_or_equal_to_10(company):\n",
    "        points += 1\n",
    "    if is_1yr_profit_growth_greater_than_or_equal_to_10(company):\n",
    "        points += 1\n",
    "    if is_3yr_profit_growth_greater_than_or_equal_to_10(company):\n",
    "        points += 1\n",
    "    if is_pe_less_than_benchmark_pe(company):\n",
    "        points += 1\n",
    "    if is_QOQ_sales_growth_positive(company):\n",
    "        points += 1\n",
    "    if is_QOQ_profit_growth_positive(company):\n",
    "        points += 1\n",
    "    if is_QOQ_operating_profit_growth_positive(company):\n",
    "        points += 1\n",
    "\n",
    "    return points"
   ]
  },
  {
   "cell_type": "code",
   "execution_count": 153,
   "metadata": {},
   "outputs": [],
   "source": [
    "def do_management_parameters_check_and_get_points(company):\n",
    "    points = 0\n",
    "\n",
    "    if is_roce_greater_than_or_equal_to_15(company):\n",
    "        points += 1\n",
    "    if is_debt_to_equity_ratio_less_than_0_dot_3(company):\n",
    "        points += 1\n",
    "    if is_current_ratio_greater_than_2(company):\n",
    "        points += 1\n",
    "    if is_piotroski_f_score_greater_than_7(company):\n",
    "        points += 1\n",
    "    return points"
   ]
  },
  {
   "cell_type": "code",
   "execution_count": 154,
   "metadata": {},
   "outputs": [],
   "source": [
    "def do_eps_check_and_get_points(company):\n",
    "    points = 0\n",
    "\n",
    "    FV = company.info.get('bookValue')\n",
    "    eps = company.info.get('trailingEps')\n",
    "\n",
    "    if eps >= 3*FV:\n",
    "        points += 3\n",
    "    elif eps >= 2*FV:\n",
    "        points += 2\n",
    "    elif eps >= FV:\n",
    "        points += 1\n",
    "    \n",
    "    return points"
   ]
  },
  {
   "cell_type": "code",
   "execution_count": 155,
   "metadata": {},
   "outputs": [],
   "source": [
    "def do_pe_multiples_nifty_check_and_get_points(company):\n",
    "    points = 0\n",
    "\n",
    "    if calculate_trailing_pe(company) > 20:\n",
    "        points += 1\n",
    "    elif calculate_trailing_pe(company) > 15:\n",
    "        points += 2\n",
    "    else:\n",
    "        points += 3\n",
    "\n",
    "    return points"
   ]
  },
  {
   "cell_type": "code",
   "execution_count": 156,
   "metadata": {},
   "outputs": [],
   "source": [
    "def do_roe_check_and_get_points(company, year):\n",
    "    points = 0\n",
    "\n",
    "    if calculate_roe(company, year) > 22:\n",
    "        points += 3\n",
    "    elif calculate_roe(company, year) > 18:\n",
    "        points += 2\n",
    "    elif calculate_roe(company, year) > 15:\n",
    "        points += 1\n",
    "    return points\n",
    "    "
   ]
  },
  {
   "cell_type": "code",
   "execution_count": 157,
   "metadata": {},
   "outputs": [],
   "source": [
    "def do_dividend_yield_check_and_get_points(company):\n",
    "    points = 0\n",
    "\n",
    "    if company.info[ 'trailingAnnualDividendYield' ] > 0.015:\n",
    "        points += 3\n",
    "    elif company.info[ 'trailingAnnualDividendYield' ] > 0.010:\n",
    "        points += 2\n",
    "    elif company.info[ 'trailingAnnualDividendYield' ] > 0.005:\n",
    "        points += 1\n",
    "    return points"
   ]
  },
  {
   "cell_type": "code",
   "execution_count": 158,
   "metadata": {},
   "outputs": [],
   "source": [
    "def do_roa_check_and_get_points(company):\n",
    "    points = 0\n",
    "\n",
    "    if company.info[ 'returnOnAssets' ] > 0.22:\n",
    "        points += 3\n",
    "    elif company.info[ 'returnOnAssets' ] > 0.16:\n",
    "        points += 2\n",
    "    elif company.info[ 'returnOnAssets' ] > 0.10:\n",
    "        points += 1\n",
    "    return points"
   ]
  },
  {
   "cell_type": "code",
   "execution_count": 159,
   "metadata": {},
   "outputs": [],
   "source": [
    "def calculate_EVEBITDA(company):\n",
    "    financials = company.financials.T  # Transpose for easier row access\n",
    "\n",
    "    # Calculate EBITDA\n",
    "    try:\n",
    "        EBITDA = financials['EBITDA'].iloc[0]\n",
    "        enterprise_value = company.info.get('enterpriseValue')\n",
    "        EVEBITDA = enterprise_value / EBITDA\n",
    "        return EVEBITDA\n",
    "    except Exception as e:\n",
    "        return f\"Error calculating EVEBITDA: {str(e)}\"\n",
    "\n",
    "def do_evebitda_check_and_get_points(company):\n",
    "    points = 0\n",
    "\n",
    "    if calculate_EVEBITDA(company) < 9:\n",
    "        points += 3\n",
    "    elif calculate_EVEBITDA(company) < 12:\n",
    "        points += 2\n",
    "    elif calculate_EVEBITDA(company) < 15:\n",
    "        points += 1\n",
    "\n",
    "    return points"
   ]
  },
  {
   "cell_type": "code",
   "execution_count": 160,
   "metadata": {},
   "outputs": [],
   "source": [
    "def do_index_parameter_scaling_and_get_points(company):\n",
    "    points = 0\n",
    "\n",
    "    points += do_management_parameters_check_and_get_points(company)\n",
    "    points += do_eps_check_and_get_points(company)\n",
    "    points += do_pe_multiples_nifty_check_and_get_points(company)\n",
    "    points += do_roe_check_and_get_points(company, 0)\n",
    "    points += do_dividend_yield_check_and_get_points(company)\n",
    "    points += do_roa_check_and_get_points(company)\n",
    "    points += do_evebitda_check_and_get_points(company)\n",
    "    return points"
   ]
  },
  {
   "cell_type": "code",
   "execution_count": 168,
   "metadata": {},
   "outputs": [
    {
     "name": "stdout",
     "output_type": "stream",
     "text": [
      "9\n",
      "Done\n"
     ]
    }
   ],
   "source": [
    "try:\n",
    "    print(do_prelimenary_checks_and_get_points(company))\n",
    "except Exception as e:\n",
    "    print(\"NULL\")\n",
    "print(\"Done\")"
   ]
  }
 ],
 "metadata": {
  "kernelspec": {
   "display_name": "finance",
   "language": "python",
   "name": "python3"
  },
  "language_info": {
   "codemirror_mode": {
    "name": "ipython",
    "version": 3
   },
   "file_extension": ".py",
   "mimetype": "text/x-python",
   "name": "python",
   "nbconvert_exporter": "python",
   "pygments_lexer": "ipython3",
   "version": "3.12.1"
  }
 },
 "nbformat": 4,
 "nbformat_minor": 2
}
